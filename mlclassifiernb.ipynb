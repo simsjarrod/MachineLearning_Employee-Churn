{
 "cells": [
  {
   "cell_type": "markdown",
   "id": "f546fad3",
   "metadata": {},
   "source": [
    "## Decision Tree Classifier"
   ]
  },
  {
   "cell_type": "code",
   "execution_count": 1,
   "id": "6960d1d2",
   "metadata": {},
   "outputs": [
    {
     "name": "stdout",
     "output_type": "stream",
     "text": [
      "Confusion Matrix:\n",
      "[[212  35]\n",
      " [ 32  15]]\n",
      "\n",
      "Accuracy: 0.7721088435374149\n",
      "F1 Score: 0.7749367284234961\n",
      "Precision: 0.7779134604661536\n",
      "Recall: 0.7721088435374149\n"
     ]
    }
   ],
   "source": [
    "import numpy as np\n",
    "import pandas as pd\n",
    "from sklearn.model_selection import StratifiedShuffleSplit\n",
    "from sklearn.tree import DecisionTreeClassifier\n",
    "from sklearn.metrics import confusion_matrix, accuracy_score, f1_score, precision_score, recall_score\n",
    "\n",
    "\n",
    "# Import Dataset\n",
    "df = pd.read_csv('attrition_data_clean.csv')\n",
    "X = df.drop('Attrition', axis=1) \n",
    "y = df['Attrition']  \n",
    "\n",
    "# Split Train and Test Sets\n",
    "splitter = StratifiedShuffleSplit(n_splits=1, test_size=0.2, random_state=123)\n",
    "for train_index, test_index in splitter.split(X, y):\n",
    "    strat_train_set = df.loc[train_index]\n",
    "    strat_test_set = df.loc[test_index]\n",
    "\n",
    "# Separate features and target variables in training and test sets\n",
    "X_train = strat_train_set.drop('Attrition', axis=1)\n",
    "y_train = strat_train_set['Attrition']\n",
    "X_test = strat_test_set.drop('Attrition', axis=1)\n",
    "y_test = strat_test_set['Attrition']\n",
    "\n",
    "'''\n",
    "# Verify the splits\n",
    "print(\"Training set:\")\n",
    "print(strat_train_set.head())\n",
    "\n",
    "print(\"\\nTest set:\")\n",
    "print(strat_test_set.head())\n",
    "'''\n",
    "\n",
    "# Train the Decision Tree Classifier\n",
    "clf = DecisionTreeClassifier(random_state=123)\n",
    "clf.fit(X_train, y_train)\n",
    "\n",
    "# Predict on the test set\n",
    "y_pred = clf.predict(X_test)\n",
    "\n",
    "# Evaluate the classifier\n",
    "conf_matrix = confusion_matrix(y_test, y_pred)\n",
    "accuracy = accuracy_score(y_test, y_pred)\n",
    "f1 = f1_score(y_test, y_pred, average='weighted')\n",
    "precision = precision_score(y_test, y_pred, average='weighted')\n",
    "recall = recall_score(y_test, y_pred, average='weighted')\n",
    "\n",
    "# Print results\n",
    "print(\"Confusion Matrix:\")\n",
    "print(conf_matrix)\n",
    "print(\"\\nAccuracy:\", accuracy)\n",
    "print(\"F1 Score:\", f1)\n",
    "print(\"Precision:\", precision)\n",
    "print(\"Recall:\", recall)"
   ]
  },
  {
   "cell_type": "markdown",
   "id": "b051f058",
   "metadata": {},
   "source": [
    "## Random Forest Classifier"
   ]
  },
  {
   "cell_type": "code",
   "execution_count": 2,
   "id": "0c04b847",
   "metadata": {},
   "outputs": [
    {
     "name": "stdout",
     "output_type": "stream",
     "text": [
      "Confusion Matrix:\n",
      "[[244   3]\n",
      " [ 38   9]]\n",
      "\n",
      "Accuracy: 0.8605442176870748\n",
      "F1 Score: 0.8237935910002075\n",
      "Precision: 0.8468241906691755\n",
      "Recall: 0.8605442176870748\n"
     ]
    }
   ],
   "source": [
    "import numpy as np\n",
    "import pandas as pd\n",
    "from sklearn.model_selection import StratifiedShuffleSplit\n",
    "from sklearn.ensemble import RandomForestClassifier\n",
    "from sklearn.metrics import confusion_matrix, accuracy_score, f1_score, precision_score, recall_score\n",
    "\n",
    "\n",
    "# Import Dataset\n",
    "df = pd.read_csv('attrition_data_clean.csv')\n",
    "X = df.drop('Attrition', axis=1) \n",
    "y = df['Attrition']  \n",
    "\n",
    "# Split Train and Test Sets\n",
    "splitter = StratifiedShuffleSplit(n_splits=1, test_size=0.2, random_state=123)\n",
    "for train_index, test_index in splitter.split(X, y):\n",
    "    strat_train_set = df.loc[train_index]\n",
    "    strat_test_set = df.loc[test_index]\n",
    "\n",
    "# Separate features and target variables in training and test sets\n",
    "X_train = strat_train_set.drop('Attrition', axis=1)\n",
    "y_train = strat_train_set['Attrition']\n",
    "X_test = strat_test_set.drop('Attrition', axis=1)\n",
    "y_test = strat_test_set['Attrition']\n",
    "\n",
    "'''\n",
    "# Verify the splits\n",
    "print(\"Training set:\")\n",
    "print(strat_train_set.head())\n",
    "\n",
    "print(\"\\nTest set:\")\n",
    "print(strat_test_set.head())\n",
    "'''\n",
    "\n",
    "# Train the Random Forest Classifier\n",
    "clf = RandomForestClassifier(random_state=123)\n",
    "clf.fit(X_train, y_train)\n",
    "\n",
    "# Predict on the test set\n",
    "y_pred = clf.predict(X_test)\n",
    "\n",
    "# Evaluate the classifier\n",
    "conf_matrix = confusion_matrix(y_test, y_pred)\n",
    "accuracy = accuracy_score(y_test, y_pred)\n",
    "f1 = f1_score(y_test, y_pred, average='weighted')\n",
    "precision = precision_score(y_test, y_pred, average='weighted')\n",
    "recall = recall_score(y_test, y_pred, average='weighted')\n",
    "\n",
    "# Print results\n",
    "print(\"Confusion Matrix:\")\n",
    "print(conf_matrix)\n",
    "print(\"\\nAccuracy:\", accuracy)\n",
    "print(\"F1 Score:\", f1)\n",
    "print(\"Precision:\", precision)\n",
    "print(\"Recall:\", recall)"
   ]
  },
  {
   "cell_type": "markdown",
   "id": "ba35111b",
   "metadata": {},
   "source": [
    "## K Nearest Neighbors Classifier"
   ]
  },
  {
   "cell_type": "code",
   "execution_count": 3,
   "id": "fc38455b",
   "metadata": {},
   "outputs": [
    {
     "name": "stdout",
     "output_type": "stream",
     "text": [
      "Confusion Matrix:\n",
      "[[243   4]\n",
      " [ 46   1]]\n",
      "\n",
      "Accuracy: 0.8299319727891157\n",
      "F1 Score: 0.7679137671141935\n",
      "Precision: 0.7383847656709743\n",
      "Recall: 0.8299319727891157\n"
     ]
    }
   ],
   "source": [
    "import numpy as np\n",
    "import pandas as pd\n",
    "from sklearn.model_selection import StratifiedShuffleSplit\n",
    "from sklearn.neighbors  import KNeighborsClassifier\n",
    "from sklearn.metrics import confusion_matrix, accuracy_score, f1_score, precision_score, recall_score\n",
    "\n",
    "\n",
    "# Import Dataset\n",
    "df = pd.read_csv('attrition_data_clean.csv')\n",
    "X = df.drop('Attrition', axis=1) \n",
    "y = df['Attrition']  \n",
    "\n",
    "# Split Train and Test Sets\n",
    "splitter = StratifiedShuffleSplit(n_splits=1, test_size=0.2, random_state=123)\n",
    "for train_index, test_index in splitter.split(X, y):\n",
    "    strat_train_set = df.loc[train_index]\n",
    "    strat_test_set = df.loc[test_index]\n",
    "\n",
    "# Separate features and target variables in training and test sets\n",
    "X_train = strat_train_set.drop('Attrition', axis=1)\n",
    "y_train = strat_train_set['Attrition']\n",
    "X_test = strat_test_set.drop('Attrition', axis=1)\n",
    "y_test = strat_test_set['Attrition']\n",
    "\n",
    "'''\n",
    "# Verify the splits\n",
    "print(\"Training set:\")\n",
    "print(strat_train_set.head())\n",
    "\n",
    "print(\"\\nTest set:\")\n",
    "print(strat_test_set.head())\n",
    "'''\n",
    "\n",
    "# Train the KNN Classifier\n",
    "k=20\n",
    "clf = KNeighborsClassifier(n_neighbors=k)\n",
    "clf.fit(X_train, y_train)\n",
    "\n",
    "# Predict on the test set\n",
    "y_pred = clf.predict(X_test)\n",
    "\n",
    "# Evaluate the classifier\n",
    "conf_matrix = confusion_matrix(y_test, y_pred)\n",
    "accuracy = accuracy_score(y_test, y_pred)\n",
    "f1 = f1_score(y_test, y_pred, average='weighted')\n",
    "precision = precision_score(y_test, y_pred, average='weighted')\n",
    "recall = recall_score(y_test, y_pred, average='weighted')\n",
    "\n",
    "# Print results\n",
    "print(\"Confusion Matrix:\")\n",
    "print(conf_matrix)\n",
    "print(\"\\nAccuracy:\", accuracy)\n",
    "print(\"F1 Score:\", f1)\n",
    "print(\"Precision:\", precision)\n",
    "print(\"Recall:\", recall)"
   ]
  },
  {
   "cell_type": "markdown",
   "id": "15d4d7ee",
   "metadata": {},
   "source": [
    "## XGBoost Classifier"
   ]
  },
  {
   "cell_type": "code",
   "execution_count": 4,
   "id": "225e9270",
   "metadata": {},
   "outputs": [
    {
     "name": "stdout",
     "output_type": "stream",
     "text": [
      "Confusion Matrix:\n",
      "[[238   9]\n",
      " [ 32  15]]\n",
      "\n",
      "Accuracy: 0.8605442176870748\n",
      "F1 Score: 0.841058323784468\n",
      "Precision: 0.8404793398841018\n",
      "Recall: 0.8605442176870748\n"
     ]
    },
    {
     "name": "stderr",
     "output_type": "stream",
     "text": [
      "C:\\Users\\jarro\\anaconda3\\lib\\site-packages\\xgboost\\core.py:158: UserWarning: [17:18:20] WARNING: C:\\buildkite-agent\\builds\\buildkite-windows-cpu-autoscaling-group-i-06abd128ca6c1688d-1\\xgboost\\xgboost-ci-windows\\src\\learner.cc:740: \n",
      "Parameters: { \"use_label_encoder\" } are not used.\n",
      "\n",
      "  warnings.warn(smsg, UserWarning)\n"
     ]
    }
   ],
   "source": [
    "import numpy as np\n",
    "import pandas as pd\n",
    "from sklearn.model_selection import StratifiedShuffleSplit\n",
    "import xgboost as xgb\n",
    "from sklearn.metrics import confusion_matrix, accuracy_score, f1_score, precision_score, recall_score\n",
    "\n",
    "\n",
    "# Import Dataset\n",
    "df = pd.read_csv('attrition_data_clean.csv')\n",
    "X = df.drop('Attrition', axis=1) \n",
    "y = df['Attrition']  \n",
    "\n",
    "# Split Train and Test Sets\n",
    "splitter = StratifiedShuffleSplit(n_splits=1, test_size=0.2, random_state=123)\n",
    "for train_index, test_index in splitter.split(X, y):\n",
    "    strat_train_set = df.loc[train_index]\n",
    "    strat_test_set = df.loc[test_index]\n",
    "\n",
    "# Separate features and target variables in training and test sets\n",
    "X_train = strat_train_set.drop('Attrition', axis=1)\n",
    "y_train = strat_train_set['Attrition']\n",
    "X_test = strat_test_set.drop('Attrition', axis=1)\n",
    "y_test = strat_test_set['Attrition']\n",
    "\n",
    "'''\n",
    "# Verify the splits\n",
    "print(\"Training set:\")\n",
    "print(strat_train_set.head())\n",
    "\n",
    "print(\"\\nTest set:\")\n",
    "print(strat_test_set.head())\n",
    "'''\n",
    "\n",
    "# Train the XGBoost Classifier\n",
    "clf = xgb.XGBClassifier(random_state=123, use_label_encoder=False, eval_metric='mlogloss')\n",
    "clf.fit(X_train, y_train)\n",
    "\n",
    "# Predict on the test set\n",
    "y_pred = clf.predict(X_test)\n",
    "\n",
    "# Evaluate the classifier\n",
    "conf_matrix = confusion_matrix(y_test, y_pred)\n",
    "accuracy = accuracy_score(y_test, y_pred)\n",
    "f1 = f1_score(y_test, y_pred, average='weighted')\n",
    "precision = precision_score(y_test, y_pred, average='weighted')\n",
    "recall = recall_score(y_test, y_pred, average='weighted')\n",
    "\n",
    "# Print results\n",
    "print(\"Confusion Matrix:\")\n",
    "print(conf_matrix)\n",
    "print(\"\\nAccuracy:\", accuracy)\n",
    "print(\"F1 Score:\", f1)\n",
    "print(\"Precision:\", precision)\n",
    "print(\"Recall:\", recall)\n",
    "\n"
   ]
  },
  {
   "cell_type": "markdown",
   "id": "08fa0e90",
   "metadata": {},
   "source": [
    "## Classifier Performance Summary"
   ]
  },
  {
   "cell_type": "code",
   "execution_count": 6,
   "id": "93a6a23e",
   "metadata": {},
   "outputs": [
    {
     "name": "stdout",
     "output_type": "stream",
     "text": [
      "           Model  Accuracy  F1 Score  Precision    Recall\n",
      "0  Decision Tree  0.772109  0.774937   0.777913  0.772109\n",
      "1  Random Forest  0.860544  0.823794   0.846824  0.860544\n",
      "2            KNN  0.829932  0.767914   0.738385  0.829932\n",
      "3        XGBoost  0.860544  0.841058   0.840479  0.860544\n"
     ]
    }
   ],
   "source": [
    "mod = pd.read_csv('classifierperformance.csv')\n",
    "print(mod)"
   ]
  }
 ],
 "metadata": {
  "kernelspec": {
   "display_name": "Python 3 (ipykernel)",
   "language": "python",
   "name": "python3"
  },
  "language_info": {
   "codemirror_mode": {
    "name": "ipython",
    "version": 3
   },
   "file_extension": ".py",
   "mimetype": "text/x-python",
   "name": "python",
   "nbconvert_exporter": "python",
   "pygments_lexer": "ipython3",
   "version": "3.10.9"
  }
 },
 "nbformat": 4,
 "nbformat_minor": 5
}
